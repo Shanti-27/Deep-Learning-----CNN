{
  "nbformat": 4,
  "nbformat_minor": 0,
  "metadata": {
    "colab": {
      "provenance": [],
      "gpuType": "T4"
    },
    "kernelspec": {
      "name": "python3",
      "display_name": "Python 3"
    },
    "language_info": {
      "name": "python"
    },
    "accelerator": "GPU"
  },
  "cells": [
    {
      "cell_type": "code",
      "execution_count": 3,
      "metadata": {
        "id": "DaSMQXqwRrmv"
      },
      "outputs": [],
      "source": [
        "import tensorflow as tf\n",
        "from tensorflow import keras\n",
        "from keras.layers import Dense, Flatten, Conv2D\n",
        "from keras.models import Sequential\n",
        "from keras.datasets import mnist\n",
        "\n",
        "#Conv2D in CNN stands for 2D Convolutional Layer, which extracts meaningful features from 2D input data such as images."
      ]
    },
    {
      "cell_type": "code",
      "source": [
        "(x_train, y_train), (x_test, y_test) = mnist.load_data()"
      ],
      "metadata": {
        "colab": {
          "base_uri": "https://localhost:8080/"
        },
        "id": "qG8q-cIUWDqs",
        "outputId": "74f57215-fd2a-4891-c208-cfffa85d094f"
      },
      "execution_count": 4,
      "outputs": [
        {
          "output_type": "stream",
          "name": "stdout",
          "text": [
            "Downloading data from https://storage.googleapis.com/tensorflow/tf-keras-datasets/mnist.npz\n",
            "11490434/11490434 [==============================] - 0s 0us/step\n"
          ]
        }
      ]
    },
    {
      "cell_type": "code",
      "source": [
        "# Padding Formula --- (n-k+2p+1)\n",
        "\n",
        "model = Sequential()\n",
        "model.add(Conv2D(32, kernel_size=(3, 3), padding='same', activation='relu', input_shape=(28, 28, 1)))\n",
        "model.add(Conv2D(32, kernel_size=(3, 3), padding='same', activation='relu'))\n",
        "model.add(Conv2D(32, kernel_size=(3, 3), padding='same', activation='relu'))\n",
        "model.add(Flatten())\n",
        "model.add(Dense(128, activation='relu'))\n",
        "model.add(Dense(10, activation='softmax'))\n"
      ],
      "metadata": {
        "id": "AJFcR5QHWDsb"
      },
      "execution_count": 5,
      "outputs": []
    },
    {
      "cell_type": "code",
      "source": [
        "model.summary()"
      ],
      "metadata": {
        "colab": {
          "base_uri": "https://localhost:8080/"
        },
        "id": "p5wMQZv4WDvT",
        "outputId": "23c0251f-3534-465f-d2e3-aaa3630dee1a"
      },
      "execution_count": 6,
      "outputs": [
        {
          "output_type": "stream",
          "name": "stdout",
          "text": [
            "Model: \"sequential\"\n",
            "_________________________________________________________________\n",
            " Layer (type)                Output Shape              Param #   \n",
            "=================================================================\n",
            " conv2d (Conv2D)             (None, 28, 28, 32)        320       \n",
            "                                                                 \n",
            " conv2d_1 (Conv2D)           (None, 28, 28, 32)        9248      \n",
            "                                                                 \n",
            " conv2d_2 (Conv2D)           (None, 28, 28, 32)        9248      \n",
            "                                                                 \n",
            " flatten (Flatten)           (None, 25088)             0         \n",
            "                                                                 \n",
            " dense (Dense)               (None, 128)               3211392   \n",
            "                                                                 \n",
            " dense_1 (Dense)             (None, 10)                1290      \n",
            "                                                                 \n",
            "=================================================================\n",
            "Total params: 3,231,498\n",
            "Trainable params: 3,231,498\n",
            "Non-trainable params: 0\n",
            "_________________________________________________________________\n"
          ]
        }
      ]
    },
    {
      "cell_type": "code",
      "source": [
        "# General formula --- (n-k+1)\n",
        "\n",
        "model = Sequential()\n",
        "model.add(Conv2D(32, kernel_size=(3, 3), padding='valid', activation='relu', input_shape=(28, 28, 1)))\n",
        "model.add(Conv2D(32, kernel_size=(3, 3), padding='valid', activation='relu'))\n",
        "model.add(Conv2D(32, kernel_size=(3, 3), padding='valid', activation='relu'))\n",
        "model.add(Flatten())\n",
        "model.add(Dense(128, activation='relu'))\n",
        "model.add(Dense(10, activation='softmax'))\n"
      ],
      "metadata": {
        "id": "4GPUp5lgWDwv"
      },
      "execution_count": 7,
      "outputs": []
    },
    {
      "cell_type": "code",
      "source": [
        "model.summary()"
      ],
      "metadata": {
        "colab": {
          "base_uri": "https://localhost:8080/"
        },
        "id": "jfwf52VgWD0F",
        "outputId": "73c7154e-313e-47aa-e1dd-3c14ece52e2a"
      },
      "execution_count": 8,
      "outputs": [
        {
          "output_type": "stream",
          "name": "stdout",
          "text": [
            "Model: \"sequential_1\"\n",
            "_________________________________________________________________\n",
            " Layer (type)                Output Shape              Param #   \n",
            "=================================================================\n",
            " conv2d_3 (Conv2D)           (None, 26, 26, 32)        320       \n",
            "                                                                 \n",
            " conv2d_4 (Conv2D)           (None, 24, 24, 32)        9248      \n",
            "                                                                 \n",
            " conv2d_5 (Conv2D)           (None, 22, 22, 32)        9248      \n",
            "                                                                 \n",
            " flatten_1 (Flatten)         (None, 15488)             0         \n",
            "                                                                 \n",
            " dense_2 (Dense)             (None, 128)               1982592   \n",
            "                                                                 \n",
            " dense_3 (Dense)             (None, 10)                1290      \n",
            "                                                                 \n",
            "=================================================================\n",
            "Total params: 2,002,698\n",
            "Trainable params: 2,002,698\n",
            "Non-trainable params: 0\n",
            "_________________________________________________________________\n"
          ]
        }
      ]
    },
    {
      "cell_type": "code",
      "source": [
        "model.compile(optimizer='adam', loss=keras.losses.SparseCategoricalCrossentropy(from_logits=True), metrics=['accuracy'])\n"
      ],
      "metadata": {
        "id": "JT8qWrV4WD1V"
      },
      "execution_count": 12,
      "outputs": []
    },
    {
      "cell_type": "code",
      "source": [
        "model.fit(x_train, y_train, validation_data=(x_test, y_test), epochs=100, batch_size=32)"
      ],
      "metadata": {
        "colab": {
          "base_uri": "https://localhost:8080/"
        },
        "id": "S1Zg97LaWD4i",
        "outputId": "98be5b39-63a7-47fc-ddac-85793492a546"
      },
      "execution_count": 13,
      "outputs": [
        {
          "output_type": "stream",
          "name": "stdout",
          "text": [
            "Epoch 1/100\n"
          ]
        },
        {
          "output_type": "stream",
          "name": "stderr",
          "text": [
            "/usr/local/lib/python3.10/dist-packages/keras/backend.py:5612: UserWarning: \"`sparse_categorical_crossentropy` received `from_logits=True`, but the `output` argument was produced by a Softmax activation and thus does not represent logits. Was this intended?\n",
            "  output, from_logits = _get_logits(\n"
          ]
        },
        {
          "output_type": "stream",
          "name": "stdout",
          "text": [
            "1875/1875 [==============================] - 10s 4ms/step - loss: 0.0291 - accuracy: 0.9911 - val_loss: 0.0878 - val_accuracy: 0.9799\n",
            "Epoch 2/100\n",
            "1875/1875 [==============================] - 8s 4ms/step - loss: 0.0187 - accuracy: 0.9943 - val_loss: 0.1513 - val_accuracy: 0.9746\n",
            "Epoch 3/100\n",
            "1875/1875 [==============================] - 8s 4ms/step - loss: 0.0178 - accuracy: 0.9948 - val_loss: 0.0890 - val_accuracy: 0.9827\n",
            "Epoch 4/100\n",
            "1875/1875 [==============================] - 8s 4ms/step - loss: 0.0157 - accuracy: 0.9955 - val_loss: 0.0813 - val_accuracy: 0.9849\n",
            "Epoch 5/100\n",
            "1875/1875 [==============================] - 8s 4ms/step - loss: 0.0114 - accuracy: 0.9972 - val_loss: 0.1120 - val_accuracy: 0.9803\n",
            "Epoch 6/100\n",
            "1875/1875 [==============================] - 7s 4ms/step - loss: 0.0126 - accuracy: 0.9968 - val_loss: 0.1058 - val_accuracy: 0.9843\n",
            "Epoch 7/100\n",
            "1875/1875 [==============================] - 8s 4ms/step - loss: 0.0130 - accuracy: 0.9966 - val_loss: 0.1078 - val_accuracy: 0.9833\n",
            "Epoch 8/100\n",
            "1875/1875 [==============================] - 8s 4ms/step - loss: 0.0099 - accuracy: 0.9976 - val_loss: 0.1315 - val_accuracy: 0.9838\n",
            "Epoch 9/100\n",
            "1875/1875 [==============================] - 8s 4ms/step - loss: 0.0127 - accuracy: 0.9972 - val_loss: 0.1379 - val_accuracy: 0.9823\n",
            "Epoch 10/100\n",
            "1875/1875 [==============================] - 8s 4ms/step - loss: 0.0109 - accuracy: 0.9975 - val_loss: 0.2006 - val_accuracy: 0.9779\n",
            "Epoch 11/100\n",
            "1875/1875 [==============================] - 8s 4ms/step - loss: 0.0123 - accuracy: 0.9976 - val_loss: 0.1181 - val_accuracy: 0.9849\n",
            "Epoch 12/100\n",
            "1875/1875 [==============================] - 7s 4ms/step - loss: 0.0114 - accuracy: 0.9975 - val_loss: 0.1478 - val_accuracy: 0.9842\n",
            "Epoch 13/100\n",
            "1875/1875 [==============================] - 8s 4ms/step - loss: 0.0125 - accuracy: 0.9974 - val_loss: 0.1807 - val_accuracy: 0.9834\n",
            "Epoch 14/100\n",
            "1875/1875 [==============================] - 8s 4ms/step - loss: 0.0122 - accuracy: 0.9978 - val_loss: 0.1867 - val_accuracy: 0.9830\n",
            "Epoch 15/100\n",
            "1875/1875 [==============================] - 7s 4ms/step - loss: 0.0079 - accuracy: 0.9986 - val_loss: 0.1983 - val_accuracy: 0.9835\n",
            "Epoch 16/100\n",
            "1875/1875 [==============================] - 8s 4ms/step - loss: 0.0184 - accuracy: 0.9974 - val_loss: 0.1955 - val_accuracy: 0.9851\n",
            "Epoch 17/100\n",
            "1875/1875 [==============================] - 7s 4ms/step - loss: 0.0079 - accuracy: 0.9985 - val_loss: 0.2813 - val_accuracy: 0.9787\n",
            "Epoch 18/100\n",
            "1875/1875 [==============================] - 8s 4ms/step - loss: 0.0112 - accuracy: 0.9981 - val_loss: 0.2077 - val_accuracy: 0.9797\n",
            "Epoch 19/100\n",
            "1875/1875 [==============================] - 8s 4ms/step - loss: 0.0083 - accuracy: 0.9986 - val_loss: 0.2175 - val_accuracy: 0.9833\n",
            "Epoch 20/100\n",
            "1875/1875 [==============================] - 7s 4ms/step - loss: 0.0156 - accuracy: 0.9976 - val_loss: 0.2399 - val_accuracy: 0.9838\n",
            "Epoch 21/100\n",
            "1875/1875 [==============================] - 8s 4ms/step - loss: 0.0084 - accuracy: 0.9985 - val_loss: 0.2095 - val_accuracy: 0.9842\n",
            "Epoch 22/100\n",
            "1875/1875 [==============================] - 7s 4ms/step - loss: 0.0085 - accuracy: 0.9986 - val_loss: 0.2717 - val_accuracy: 0.9810\n",
            "Epoch 23/100\n",
            "1875/1875 [==============================] - 8s 4ms/step - loss: 0.0135 - accuracy: 0.9984 - val_loss: 0.3072 - val_accuracy: 0.9808\n",
            "Epoch 24/100\n",
            "1875/1875 [==============================] - 8s 4ms/step - loss: 0.0086 - accuracy: 0.9988 - val_loss: 0.2617 - val_accuracy: 0.9830\n",
            "Epoch 25/100\n",
            "1875/1875 [==============================] - 7s 4ms/step - loss: 0.0091 - accuracy: 0.9987 - val_loss: 0.2562 - val_accuracy: 0.9866\n",
            "Epoch 26/100\n",
            "1875/1875 [==============================] - 8s 4ms/step - loss: 0.0138 - accuracy: 0.9983 - val_loss: 0.3234 - val_accuracy: 0.9846\n",
            "Epoch 27/100\n",
            "1875/1875 [==============================] - 7s 4ms/step - loss: 0.0098 - accuracy: 0.9989 - val_loss: 0.3578 - val_accuracy: 0.9845\n",
            "Epoch 28/100\n",
            "1875/1875 [==============================] - 7s 4ms/step - loss: 0.0151 - accuracy: 0.9983 - val_loss: 0.3668 - val_accuracy: 0.9863\n",
            "Epoch 29/100\n",
            "1875/1875 [==============================] - 8s 4ms/step - loss: 0.0118 - accuracy: 0.9987 - val_loss: 0.3011 - val_accuracy: 0.9855\n",
            "Epoch 30/100\n",
            "1875/1875 [==============================] - 7s 4ms/step - loss: 0.0108 - accuracy: 0.9987 - val_loss: 0.5147 - val_accuracy: 0.9816\n",
            "Epoch 31/100\n",
            "1875/1875 [==============================] - 8s 4ms/step - loss: 0.0174 - accuracy: 0.9987 - val_loss: 0.3656 - val_accuracy: 0.9845\n",
            "Epoch 32/100\n",
            "1875/1875 [==============================] - 8s 4ms/step - loss: 0.0158 - accuracy: 0.9984 - val_loss: 0.5259 - val_accuracy: 0.9823\n",
            "Epoch 33/100\n",
            "1875/1875 [==============================] - 8s 4ms/step - loss: 0.0147 - accuracy: 0.9988 - val_loss: 0.4889 - val_accuracy: 0.9822\n",
            "Epoch 34/100\n",
            "1875/1875 [==============================] - 8s 4ms/step - loss: 0.0135 - accuracy: 0.9989 - val_loss: 0.5890 - val_accuracy: 0.9834\n",
            "Epoch 35/100\n",
            "1875/1875 [==============================] - 7s 4ms/step - loss: 0.0151 - accuracy: 0.9989 - val_loss: 0.7382 - val_accuracy: 0.9817\n",
            "Epoch 36/100\n",
            "1875/1875 [==============================] - 8s 4ms/step - loss: 0.0186 - accuracy: 0.9987 - val_loss: 0.5527 - val_accuracy: 0.9854\n",
            "Epoch 37/100\n",
            "1875/1875 [==============================] - 8s 4ms/step - loss: 0.0180 - accuracy: 0.9986 - val_loss: 0.6311 - val_accuracy: 0.9831\n",
            "Epoch 38/100\n",
            "1875/1875 [==============================] - 7s 4ms/step - loss: 0.0172 - accuracy: 0.9990 - val_loss: 0.6291 - val_accuracy: 0.9872\n",
            "Epoch 39/100\n",
            "1875/1875 [==============================] - 8s 4ms/step - loss: 0.0134 - accuracy: 0.9991 - val_loss: 0.8113 - val_accuracy: 0.9849\n",
            "Epoch 40/100\n",
            "1875/1875 [==============================] - 8s 4ms/step - loss: 0.0241 - accuracy: 0.9989 - val_loss: 0.7818 - val_accuracy: 0.9850\n",
            "Epoch 41/100\n",
            "1875/1875 [==============================] - 7s 4ms/step - loss: 0.0152 - accuracy: 0.9991 - val_loss: 1.0255 - val_accuracy: 0.9821\n",
            "Epoch 42/100\n",
            "1875/1875 [==============================] - 8s 4ms/step - loss: 0.0203 - accuracy: 0.9990 - val_loss: 0.6912 - val_accuracy: 0.9847\n",
            "Epoch 43/100\n",
            "1875/1875 [==============================] - 7s 4ms/step - loss: 0.0058 - accuracy: 0.9997 - val_loss: 0.8762 - val_accuracy: 0.9859\n",
            "Epoch 44/100\n",
            "1875/1875 [==============================] - 8s 4ms/step - loss: 0.0215 - accuracy: 0.9988 - val_loss: 0.8563 - val_accuracy: 0.9841\n",
            "Epoch 45/100\n",
            "1875/1875 [==============================] - 8s 4ms/step - loss: 0.0249 - accuracy: 0.9988 - val_loss: 1.0341 - val_accuracy: 0.9856\n",
            "Epoch 46/100\n",
            "1875/1875 [==============================] - 7s 4ms/step - loss: 0.0214 - accuracy: 0.9991 - val_loss: 0.7481 - val_accuracy: 0.9862\n",
            "Epoch 47/100\n",
            "1875/1875 [==============================] - 8s 4ms/step - loss: 0.0218 - accuracy: 0.9992 - val_loss: 0.8671 - val_accuracy: 0.9843\n",
            "Epoch 48/100\n",
            "1875/1875 [==============================] - 8s 4ms/step - loss: 0.0202 - accuracy: 0.9991 - val_loss: 0.8325 - val_accuracy: 0.9858\n",
            "Epoch 49/100\n",
            "1875/1875 [==============================] - 7s 4ms/step - loss: 0.0230 - accuracy: 0.9991 - val_loss: 0.8753 - val_accuracy: 0.9871\n",
            "Epoch 50/100\n",
            "1875/1875 [==============================] - 8s 4ms/step - loss: 0.0268 - accuracy: 0.9992 - val_loss: 0.9323 - val_accuracy: 0.9854\n",
            "Epoch 51/100\n",
            "1875/1875 [==============================] - 7s 4ms/step - loss: 0.0198 - accuracy: 0.9992 - val_loss: 0.8950 - val_accuracy: 0.9857\n",
            "Epoch 52/100\n",
            "1875/1875 [==============================] - 8s 4ms/step - loss: 0.0182 - accuracy: 0.9992 - val_loss: 0.8816 - val_accuracy: 0.9871\n",
            "Epoch 53/100\n",
            "1875/1875 [==============================] - 8s 4ms/step - loss: 0.0147 - accuracy: 0.9992 - val_loss: 1.0897 - val_accuracy: 0.9864\n",
            "Epoch 54/100\n",
            "1875/1875 [==============================] - 7s 4ms/step - loss: 0.0227 - accuracy: 0.9993 - val_loss: 1.3239 - val_accuracy: 0.9860\n",
            "Epoch 55/100\n",
            "1875/1875 [==============================] - 8s 4ms/step - loss: 0.0446 - accuracy: 0.9987 - val_loss: 0.9729 - val_accuracy: 0.9864\n",
            "Epoch 56/100\n",
            "1875/1875 [==============================] - 8s 4ms/step - loss: 0.0160 - accuracy: 0.9995 - val_loss: 0.9748 - val_accuracy: 0.9861\n",
            "Epoch 57/100\n",
            "1875/1875 [==============================] - 7s 4ms/step - loss: 0.0204 - accuracy: 0.9992 - val_loss: 1.3879 - val_accuracy: 0.9850\n",
            "Epoch 58/100\n",
            "1875/1875 [==============================] - 8s 4ms/step - loss: 0.0300 - accuracy: 0.9992 - val_loss: 1.2405 - val_accuracy: 0.9860\n",
            "Epoch 59/100\n",
            "1875/1875 [==============================] - 7s 4ms/step - loss: 0.0165 - accuracy: 0.9994 - val_loss: 1.4414 - val_accuracy: 0.9849\n",
            "Epoch 60/100\n",
            "1875/1875 [==============================] - 8s 4ms/step - loss: 0.0313 - accuracy: 0.9991 - val_loss: 1.5309 - val_accuracy: 0.9853\n",
            "Epoch 61/100\n",
            "1875/1875 [==============================] - 8s 4ms/step - loss: 0.0374 - accuracy: 0.9990 - val_loss: 1.2644 - val_accuracy: 0.9842\n",
            "Epoch 62/100\n",
            "1875/1875 [==============================] - 7s 4ms/step - loss: 0.0197 - accuracy: 0.9993 - val_loss: 1.7179 - val_accuracy: 0.9871\n",
            "Epoch 63/100\n",
            "1875/1875 [==============================] - 8s 4ms/step - loss: 0.0260 - accuracy: 0.9995 - val_loss: 1.6366 - val_accuracy: 0.9857\n",
            "Epoch 64/100\n",
            "1875/1875 [==============================] - 7s 4ms/step - loss: 0.0254 - accuracy: 0.9993 - val_loss: 1.8866 - val_accuracy: 0.9856\n",
            "Epoch 65/100\n",
            "1875/1875 [==============================] - 8s 4ms/step - loss: 0.0315 - accuracy: 0.9994 - val_loss: 1.6269 - val_accuracy: 0.9871\n",
            "Epoch 66/100\n",
            "1875/1875 [==============================] - 8s 5ms/step - loss: 0.0405 - accuracy: 0.9992 - val_loss: 1.9085 - val_accuracy: 0.9862\n",
            "Epoch 67/100\n",
            "1875/1875 [==============================] - 7s 4ms/step - loss: 0.0433 - accuracy: 0.9994 - val_loss: 1.5285 - val_accuracy: 0.9872\n",
            "Epoch 68/100\n",
            "1875/1875 [==============================] - 9s 5ms/step - loss: 0.0205 - accuracy: 0.9996 - val_loss: 2.0059 - val_accuracy: 0.9847\n",
            "Epoch 69/100\n",
            "1875/1875 [==============================] - 9s 5ms/step - loss: 0.0329 - accuracy: 0.9993 - val_loss: 1.8274 - val_accuracy: 0.9855\n",
            "Epoch 70/100\n",
            "1875/1875 [==============================] - 7s 4ms/step - loss: 0.0287 - accuracy: 0.9994 - val_loss: 1.8012 - val_accuracy: 0.9855\n",
            "Epoch 71/100\n",
            "1875/1875 [==============================] - 8s 4ms/step - loss: 0.0314 - accuracy: 0.9993 - val_loss: 1.9502 - val_accuracy: 0.9855\n",
            "Epoch 72/100\n",
            "1875/1875 [==============================] - 8s 4ms/step - loss: 0.0314 - accuracy: 0.9994 - val_loss: 2.5054 - val_accuracy: 0.9851\n",
            "Epoch 73/100\n",
            "1875/1875 [==============================] - 7s 4ms/step - loss: 0.0391 - accuracy: 0.9992 - val_loss: 2.2690 - val_accuracy: 0.9872\n",
            "Epoch 74/100\n",
            "1875/1875 [==============================] - 8s 4ms/step - loss: 0.0526 - accuracy: 0.9993 - val_loss: 2.3548 - val_accuracy: 0.9862\n",
            "Epoch 75/100\n",
            "1875/1875 [==============================] - 8s 4ms/step - loss: 0.0353 - accuracy: 0.9995 - val_loss: 2.2418 - val_accuracy: 0.9864\n",
            "Epoch 76/100\n",
            "1875/1875 [==============================] - 7s 4ms/step - loss: 0.0309 - accuracy: 0.9994 - val_loss: 2.3889 - val_accuracy: 0.9865\n",
            "Epoch 77/100\n",
            "1875/1875 [==============================] - 8s 4ms/step - loss: 0.0432 - accuracy: 0.9995 - val_loss: 2.8580 - val_accuracy: 0.9869\n",
            "Epoch 78/100\n",
            "1875/1875 [==============================] - 7s 4ms/step - loss: 0.0362 - accuracy: 0.9994 - val_loss: 3.5518 - val_accuracy: 0.9854\n",
            "Epoch 79/100\n",
            "1875/1875 [==============================] - 8s 4ms/step - loss: 0.0389 - accuracy: 0.9995 - val_loss: 2.7381 - val_accuracy: 0.9865\n",
            "Epoch 80/100\n",
            "1875/1875 [==============================] - 8s 4ms/step - loss: 0.0268 - accuracy: 0.9997 - val_loss: 2.7249 - val_accuracy: 0.9867\n",
            "Epoch 81/100\n",
            "1875/1875 [==============================] - 7s 4ms/step - loss: 0.0464 - accuracy: 0.9994 - val_loss: 3.4079 - val_accuracy: 0.9840\n",
            "Epoch 82/100\n",
            "1875/1875 [==============================] - 8s 4ms/step - loss: 0.0308 - accuracy: 0.9997 - val_loss: 2.6678 - val_accuracy: 0.9868\n",
            "Epoch 83/100\n",
            "1875/1875 [==============================] - 8s 4ms/step - loss: 0.0396 - accuracy: 0.9995 - val_loss: 2.9828 - val_accuracy: 0.9863\n",
            "Epoch 84/100\n",
            "1875/1875 [==============================] - 7s 4ms/step - loss: 0.0334 - accuracy: 0.9996 - val_loss: 2.8983 - val_accuracy: 0.9878\n",
            "Epoch 85/100\n",
            "1875/1875 [==============================] - 8s 4ms/step - loss: 0.0441 - accuracy: 0.9994 - val_loss: 3.5498 - val_accuracy: 0.9854\n",
            "Epoch 86/100\n",
            "1875/1875 [==============================] - 7s 4ms/step - loss: 0.0521 - accuracy: 0.9995 - val_loss: 2.9980 - val_accuracy: 0.9854\n",
            "Epoch 87/100\n",
            "1875/1875 [==============================] - 8s 4ms/step - loss: 0.0272 - accuracy: 0.9996 - val_loss: 2.9444 - val_accuracy: 0.9865\n",
            "Epoch 88/100\n",
            "1875/1875 [==============================] - 8s 4ms/step - loss: 0.0624 - accuracy: 0.9994 - val_loss: 3.0202 - val_accuracy: 0.9885\n",
            "Epoch 89/100\n",
            "1875/1875 [==============================] - 7s 4ms/step - loss: 0.0458 - accuracy: 0.9995 - val_loss: 3.0689 - val_accuracy: 0.9868\n",
            "Epoch 90/100\n",
            "1875/1875 [==============================] - 8s 4ms/step - loss: 0.0342 - accuracy: 0.9997 - val_loss: 3.7417 - val_accuracy: 0.9875\n",
            "Epoch 91/100\n",
            "1875/1875 [==============================] - 8s 4ms/step - loss: 0.0291 - accuracy: 0.9996 - val_loss: 4.6828 - val_accuracy: 0.9837\n",
            "Epoch 92/100\n",
            "1875/1875 [==============================] - 7s 4ms/step - loss: 0.0483 - accuracy: 0.9995 - val_loss: 3.8287 - val_accuracy: 0.9879\n",
            "Epoch 93/100\n",
            "1875/1875 [==============================] - 8s 4ms/step - loss: 0.0388 - accuracy: 0.9997 - val_loss: 4.1272 - val_accuracy: 0.9874\n",
            "Epoch 94/100\n",
            "1875/1875 [==============================] - 7s 4ms/step - loss: 0.0619 - accuracy: 0.9995 - val_loss: 4.6884 - val_accuracy: 0.9871\n",
            "Epoch 95/100\n",
            "1875/1875 [==============================] - 8s 4ms/step - loss: 0.0220 - accuracy: 0.9999 - val_loss: 4.2615 - val_accuracy: 0.9879\n",
            "Epoch 96/100\n",
            "1875/1875 [==============================] - 8s 4ms/step - loss: 0.0796 - accuracy: 0.9994 - val_loss: 3.9150 - val_accuracy: 0.9886\n",
            "Epoch 97/100\n",
            "1875/1875 [==============================] - 7s 4ms/step - loss: 0.0450 - accuracy: 0.9996 - val_loss: 4.3279 - val_accuracy: 0.9881\n",
            "Epoch 98/100\n",
            "1875/1875 [==============================] - 8s 4ms/step - loss: 0.0465 - accuracy: 0.9996 - val_loss: 4.6405 - val_accuracy: 0.9881\n",
            "Epoch 99/100\n",
            "1875/1875 [==============================] - 8s 4ms/step - loss: 0.0517 - accuracy: 0.9996 - val_loss: 3.5271 - val_accuracy: 0.9880\n",
            "Epoch 100/100\n",
            "1875/1875 [==============================] - 8s 4ms/step - loss: 0.0172 - accuracy: 0.9998 - val_loss: 4.3903 - val_accuracy: 0.9867\n"
          ]
        },
        {
          "output_type": "execute_result",
          "data": {
            "text/plain": [
              "<keras.callbacks.History at 0x7f0a800c0190>"
            ]
          },
          "metadata": {},
          "execution_count": 13
        }
      ]
    },
    {
      "cell_type": "markdown",
      "source": [
        "I implemented a Convolutional Neural Network (CNN) model using Conv2D layers in Keras. The model architecture consisted of multiple Conv2D layers followed by a Flatten layer and fully connected Dense layers. I used the appropriate kernel sizes, activation functions, and padding to construct the CNN. The model was compiled with the Adam optimizer and the SparseCategoricalCrossentropy loss function. The CNN architecture and configuration are commonly used in computer vision tasks, leveraging the power of convolutional operations to extract meaningful features from images. The model can be further trained and fine-tuned to achieve better performance on specific image classification tasks."
      ],
      "metadata": {
        "id": "AkeU_fWe1pUN"
      }
    },
    {
      "cell_type": "code",
      "source": [],
      "metadata": {
        "id": "e25yEOEVWD51"
      },
      "execution_count": null,
      "outputs": []
    },
    {
      "cell_type": "code",
      "source": [],
      "metadata": {
        "id": "-90r7YArWD9H"
      },
      "execution_count": null,
      "outputs": []
    },
    {
      "cell_type": "code",
      "source": [],
      "metadata": {
        "id": "EY1soc8TWD-4"
      },
      "execution_count": null,
      "outputs": []
    },
    {
      "cell_type": "code",
      "source": [],
      "metadata": {
        "id": "qSSFQH-kWEB6"
      },
      "execution_count": null,
      "outputs": []
    },
    {
      "cell_type": "code",
      "source": [],
      "metadata": {
        "id": "EHGIF8pTWEEd"
      },
      "execution_count": null,
      "outputs": []
    }
  ]
}